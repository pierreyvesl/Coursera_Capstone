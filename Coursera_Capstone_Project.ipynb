{
    "cells": [
        {
            "cell_type": "markdown",
            "metadata": {
                "button": false,
                "new_sheet": false,
                "run_control": {
                    "read_only": false
                }
            },
            "source": "<a href=\"https://www.bigdatauniversity.com\"><img src=\"https://ibm.box.com/shared/static/cw2c7r3o20w9zn8gkecaeyjhgw3xdgbj.png\" width=\"400\" align=\"center\"></a>\n\n<h1 align=\"center\"><font size=\"5\">Classification with Python</font></h1>"
        },
        {
            "cell_type": "markdown",
            "metadata": {
                "button": false,
                "new_sheet": false,
                "run_control": {
                    "read_only": false
                }
            },
            "source": "In this notebook we try to practice all the classification algorithms that we learned in this course.\n\nWe load a dataset using Pandas library, and apply the following algorithms, and find the best one for this specific dataset by accuracy evaluation methods.\n\nLets first load required libraries:"
        },
        {
            "cell_type": "code",
            "execution_count": 303,
            "metadata": {
                "button": false,
                "new_sheet": false,
                "run_control": {
                    "read_only": false
                }
            },
            "outputs": [],
            "source": "import itertools\nimport numpy as np\nimport matplotlib.pyplot as plt\nfrom matplotlib.ticker import NullFormatter\nimport pandas as pd\nimport numpy as np\nimport matplotlib.ticker as ticker\nfrom sklearn import preprocessing\nfrom sklearn.model_selection import train_test_split\nfrom sklearn.neighbors import KNeighborsClassifier\nfrom sklearn.tree import DecisionTreeClassifier\nfrom sklearn.linear_model import LogisticRegression\nfrom sklearn import svm\nfrom sklearn import metrics\nfrom sklearn.metrics import classification_report\nfrom sklearn.metrics import f1_score\nfrom sklearn.metrics import jaccard_similarity_score\nfrom sklearn.metrics import log_loss\nfrom sklearn.utils import resample\n%matplotlib inline\n"
        },
        {
            "cell_type": "markdown",
            "metadata": {
                "button": false,
                "new_sheet": false,
                "run_control": {
                    "read_only": false
                }
            },
            "source": "This dataset is about past loans. The __Loan_train.csv__ data set includes details of 346 customers whose loan are already paid off or defaulted. It includes following fields:\n\n| Field          | Description                                                                           |\n|----------------|---------------------------------------------------------------------------------------|\n| Loan_status    | Whether a loan is paid off on in collection                                           |\n| Principal      | Basic principal loan amount at the                                                    |\n| Terms          | Origination terms which can be weekly (7 days), biweekly, and monthly payoff schedule |\n| Effective_date | When the loan got originated and took effects                                         |\n| Due_date       | Since it\u2019s one-time payoff schedule, each loan has one single due date                |\n| Age            | Age of applicant                                                                      |\n| Education      | Education of applicant                                                                |\n| Gender         | The gender of applicant                                                               |"
        },
        {
            "cell_type": "markdown",
            "metadata": {
                "button": false,
                "new_sheet": false,
                "run_control": {
                    "read_only": false
                }
            },
            "source": "Lets download the dataset"
        },
        {
            "cell_type": "code",
            "execution_count": 2,
            "metadata": {
                "button": false,
                "new_sheet": false,
                "run_control": {
                    "read_only": false
                }
            },
            "outputs": [
                {
                    "name": "stdout",
                    "output_type": "stream",
                    "text": "--2019-11-14 13:50:43--  https://s3-api.us-geo.objectstorage.softlayer.net/cf-courses-data/CognitiveClass/ML0101ENv3/labs/loan_train.csv\nResolving s3-api.us-geo.objectstorage.softlayer.net (s3-api.us-geo.objectstorage.softlayer.net)... 67.228.254.196\nConnecting to s3-api.us-geo.objectstorage.softlayer.net (s3-api.us-geo.objectstorage.softlayer.net)|67.228.254.196|:443... connected.\nHTTP request sent, awaiting response... 200 OK\nLength: 23101 (23K) [text/csv]\nSaving to: \u2018loan_train.csv\u2019\n\n100%[======================================>] 23,101      --.-K/s   in 0.002s  \n\n2019-11-14 13:50:43 (10.4 MB/s) - \u2018loan_train.csv\u2019 saved [23101/23101]\n\n"
                }
            ],
            "source": "!wget -O loan_train.csv https://s3-api.us-geo.objectstorage.softlayer.net/cf-courses-data/CognitiveClass/ML0101ENv3/labs/loan_train.csv"
        },
        {
            "cell_type": "markdown",
            "metadata": {
                "button": false,
                "new_sheet": false,
                "run_control": {
                    "read_only": false
                }
            },
            "source": "### Load Data From CSV File  "
        },
        {
            "cell_type": "code",
            "execution_count": 306,
            "metadata": {
                "button": false,
                "new_sheet": false,
                "run_control": {
                    "read_only": false
                }
            },
            "outputs": [
                {
                    "name": "stdout",
                    "output_type": "stream",
                    "text": "<bound method NDFrame.head of      Unnamed: 0  Unnamed: 0.1 loan_status  Principal  terms effective_date  \\\n0             0             0     PAIDOFF       1000     30       9/8/2016   \n1             2             2     PAIDOFF       1000     30       9/8/2016   \n2             3             3     PAIDOFF       1000     15       9/8/2016   \n3             4             4     PAIDOFF       1000     30       9/9/2016   \n4             6             6     PAIDOFF       1000     30       9/9/2016   \n5             7             7     PAIDOFF       1000     30       9/9/2016   \n6             8             8     PAIDOFF       1000     30       9/9/2016   \n7             9             9     PAIDOFF        800     15      9/10/2016   \n8            10            10     PAIDOFF        300      7      9/10/2016   \n9            11            11     PAIDOFF       1000     15      9/10/2016   \n10           12            12     PAIDOFF       1000     30      9/10/2016   \n11           13            13     PAIDOFF        900      7      9/10/2016   \n12           14            14     PAIDOFF       1000      7      9/10/2016   \n13           15            15     PAIDOFF        800     15      9/10/2016   \n14           16            16     PAIDOFF       1000     30      9/10/2016   \n15           17            17     PAIDOFF       1000     15      9/10/2016   \n16           18            18     PAIDOFF       1000     30      9/10/2016   \n17           19            19     PAIDOFF        800     30      9/10/2016   \n18           20            20     PAIDOFF       1000     30      9/10/2016   \n19           22            22     PAIDOFF       1000     30      9/10/2016   \n20           23            23     PAIDOFF       1000     15      9/10/2016   \n21           25            25     PAIDOFF       1000     30      9/10/2016   \n22           26            26     PAIDOFF        800     15      9/10/2016   \n23           27            27     PAIDOFF       1000     15      9/10/2016   \n24           28            28     PAIDOFF       1000     30      9/11/2016   \n25           29            29     PAIDOFF       1000     30      9/11/2016   \n26           30            30     PAIDOFF        800     15      9/11/2016   \n27           31            31     PAIDOFF       1000     30      9/11/2016   \n28           32            32     PAIDOFF       1000     30      9/11/2016   \n29           33            33     PAIDOFF       1000     30      9/11/2016   \n..          ...           ...         ...        ...    ...            ...   \n316         367           367  COLLECTION        800     15      9/11/2016   \n317         368           368  COLLECTION       1000     30      9/11/2016   \n318         371           371  COLLECTION       1000     30      9/11/2016   \n319         372           372  COLLECTION        800     15      9/11/2016   \n320         373           373  COLLECTION       1000     15      9/11/2016   \n321         374           374  COLLECTION       1000     30      9/11/2016   \n322         375           375  COLLECTION        800     15      9/11/2016   \n323         376           376  COLLECTION       1000     15      9/11/2016   \n324         377           377  COLLECTION       1000     30      9/11/2016   \n325         378           378  COLLECTION       1000     30      9/11/2016   \n326         379           379  COLLECTION       1000     30      9/11/2016   \n327         380           380  COLLECTION       1000     30      9/11/2016   \n328         381           381  COLLECTION        800     15      9/11/2016   \n329         382           382  COLLECTION       1000     15      9/11/2016   \n330         383           383  COLLECTION       1000     30      9/11/2016   \n331         384           384  COLLECTION       1000     30      9/11/2016   \n332         385           385  COLLECTION       1000     30      9/11/2016   \n333         386           386  COLLECTION        800     15      9/11/2016   \n334         387           387  COLLECTION       1000     30      9/11/2016   \n335         388           388  COLLECTION       1000     15      9/11/2016   \n336         389           389  COLLECTION       1000     15      9/11/2016   \n337         390           390  COLLECTION       1000     15      9/11/2016   \n338         391           391  COLLECTION        800     15      9/11/2016   \n339         392           392  COLLECTION       1000     30      9/11/2016   \n340         393           393  COLLECTION       1000     30      9/11/2016   \n341         394           394  COLLECTION        800     15      9/11/2016   \n342         395           395  COLLECTION       1000     30      9/11/2016   \n343         397           397  COLLECTION        800     15      9/12/2016   \n344         398           398  COLLECTION       1000     30      9/12/2016   \n345         399           399  COLLECTION       1000     30      9/12/2016   \n\n       due_date  age             education  Gender  \n0     10/7/2016   45  High School or Below    male  \n1     10/7/2016   33              Bechalor  female  \n2     9/22/2016   27               college    male  \n3     10/8/2016   28               college  female  \n4     10/8/2016   29               college    male  \n5     10/8/2016   36               college    male  \n6     10/8/2016   28               college    male  \n7     9/24/2016   26               college    male  \n8     9/16/2016   29               college    male  \n9     10/9/2016   39  High School or Below    male  \n10    10/9/2016   26               college    male  \n11    9/16/2016   26               college  female  \n12    9/16/2016   27  High School or Below    male  \n13    9/24/2016   26               college    male  \n14    10/9/2016   40  High School or Below    male  \n15    9/24/2016   32  High School or Below    male  \n16    10/9/2016   32  High School or Below    male  \n17    10/9/2016   26               college    male  \n18    10/9/2016   26               college    male  \n19    10/9/2016   25  High School or Below    male  \n20    9/24/2016   26               college    male  \n21    10/9/2016   29  High School or Below    male  \n22    9/24/2016   39              Bechalor    male  \n23    9/24/2016   34              Bechalor    male  \n24   10/10/2016   31               college    male  \n25   10/10/2016   33               college    male  \n26    9/25/2016   33  High School or Below    male  \n27   10/10/2016   37               college    male  \n28   10/10/2016   27               college    male  \n29   10/10/2016   37               college    male  \n..          ...  ...                   ...     ...  \n316   9/25/2016   28              Bechalor    male  \n317  10/10/2016   24               college    male  \n318  10/10/2016   18               college    male  \n319   9/25/2016   25  High School or Below    male  \n320   9/25/2016   40  High School or Below    male  \n321  10/10/2016   29               college    male  \n322   9/25/2016   26  High School or Below  female  \n323   9/25/2016   30               college    male  \n324  10/10/2016   33               college    male  \n325  10/10/2016   30               college    male  \n326  10/10/2016   32               college    male  \n327  10/10/2016   25  High School or Below    male  \n328   9/25/2016   35  High School or Below    male  \n329   9/25/2016   30              Bechalor    male  \n330  10/10/2016   26  High School or Below    male  \n331  10/10/2016   29  High School or Below    male  \n332   11/9/2016   26  High School or Below    male  \n333   9/25/2016   46  High School or Below    male  \n334  10/10/2016   36  High School or Below    male  \n335   9/25/2016   38              Bechalor    male  \n336  10/25/2016   32  High School or Below    male  \n337   9/25/2016   30               college    male  \n338   9/25/2016   35  High School or Below    male  \n339  10/10/2016   29               college  female  \n340   11/9/2016   26               college    male  \n341   9/25/2016   32  High School or Below    male  \n342  10/10/2016   25  High School or Below    male  \n343   9/26/2016   39               college    male  \n344  11/10/2016   28               college    male  \n345  10/11/2016   26               college    male  \n\n[346 rows x 10 columns]>\n"
                }
            ],
            "source": "df = pd.read_csv('loan_train.csv')\ndf.head()\nprint(df.head)"
        },
        {
            "cell_type": "markdown",
            "metadata": {
                "button": false,
                "new_sheet": false,
                "run_control": {
                    "read_only": false
                }
            },
            "source": "### About dataset"
        },
        {
            "cell_type": "code",
            "execution_count": 307,
            "metadata": {},
            "outputs": [
                {
                    "data": {
                        "text/plain": "(346, 10)"
                    },
                    "execution_count": 307,
                    "metadata": {},
                    "output_type": "execute_result"
                }
            ],
            "source": "df.shape"
        },
        {
            "cell_type": "code",
            "execution_count": 308,
            "metadata": {
                "button": false,
                "new_sheet": false,
                "run_control": {
                    "read_only": false
                }
            },
            "outputs": [
                {
                    "data": {
                        "text/html": "<div>\n<style scoped>\n    .dataframe tbody tr th:only-of-type {\n        vertical-align: middle;\n    }\n\n    .dataframe tbody tr th {\n        vertical-align: top;\n    }\n\n    .dataframe thead th {\n        text-align: right;\n    }\n</style>\n<table border=\"1\" class=\"dataframe\">\n  <thead>\n    <tr style=\"text-align: right;\">\n      <th></th>\n      <th>Unnamed: 0</th>\n      <th>Unnamed: 0.1</th>\n      <th>loan_status</th>\n      <th>Principal</th>\n      <th>terms</th>\n      <th>effective_date</th>\n      <th>due_date</th>\n      <th>age</th>\n      <th>education</th>\n      <th>Gender</th>\n    </tr>\n  </thead>\n  <tbody>\n    <tr>\n      <th>0</th>\n      <td>0</td>\n      <td>0</td>\n      <td>PAIDOFF</td>\n      <td>1000</td>\n      <td>30</td>\n      <td>2016-09-08</td>\n      <td>2016-10-07</td>\n      <td>45</td>\n      <td>High School or Below</td>\n      <td>male</td>\n    </tr>\n    <tr>\n      <th>1</th>\n      <td>2</td>\n      <td>2</td>\n      <td>PAIDOFF</td>\n      <td>1000</td>\n      <td>30</td>\n      <td>2016-09-08</td>\n      <td>2016-10-07</td>\n      <td>33</td>\n      <td>Bechalor</td>\n      <td>female</td>\n    </tr>\n    <tr>\n      <th>2</th>\n      <td>3</td>\n      <td>3</td>\n      <td>PAIDOFF</td>\n      <td>1000</td>\n      <td>15</td>\n      <td>2016-09-08</td>\n      <td>2016-09-22</td>\n      <td>27</td>\n      <td>college</td>\n      <td>male</td>\n    </tr>\n    <tr>\n      <th>3</th>\n      <td>4</td>\n      <td>4</td>\n      <td>PAIDOFF</td>\n      <td>1000</td>\n      <td>30</td>\n      <td>2016-09-09</td>\n      <td>2016-10-08</td>\n      <td>28</td>\n      <td>college</td>\n      <td>female</td>\n    </tr>\n    <tr>\n      <th>4</th>\n      <td>6</td>\n      <td>6</td>\n      <td>PAIDOFF</td>\n      <td>1000</td>\n      <td>30</td>\n      <td>2016-09-09</td>\n      <td>2016-10-08</td>\n      <td>29</td>\n      <td>college</td>\n      <td>male</td>\n    </tr>\n  </tbody>\n</table>\n</div>",
                        "text/plain": "   Unnamed: 0  Unnamed: 0.1 loan_status  Principal  terms effective_date  \\\n0           0             0     PAIDOFF       1000     30     2016-09-08   \n1           2             2     PAIDOFF       1000     30     2016-09-08   \n2           3             3     PAIDOFF       1000     15     2016-09-08   \n3           4             4     PAIDOFF       1000     30     2016-09-09   \n4           6             6     PAIDOFF       1000     30     2016-09-09   \n\n    due_date  age             education  Gender  \n0 2016-10-07   45  High School or Below    male  \n1 2016-10-07   33              Bechalor  female  \n2 2016-09-22   27               college    male  \n3 2016-10-08   28               college  female  \n4 2016-10-08   29               college    male  "
                    },
                    "execution_count": 308,
                    "metadata": {},
                    "output_type": "execute_result"
                }
            ],
            "source": "df['due_date'] = pd.to_datetime(df['due_date'])\ndf['effective_date'] = pd.to_datetime(df['effective_date'])\ndf.head()\n\n\n"
        },
        {
            "cell_type": "markdown",
            "metadata": {
                "button": false,
                "new_sheet": false,
                "run_control": {
                    "read_only": false
                }
            },
            "source": "### Convert to date time object "
        },
        {
            "cell_type": "markdown",
            "metadata": {
                "button": false,
                "new_sheet": false,
                "run_control": {
                    "read_only": false
                }
            },
            "source": "# Data visualization and pre-processing\n\n"
        },
        {
            "cell_type": "markdown",
            "metadata": {
                "button": false,
                "new_sheet": false,
                "run_control": {
                    "read_only": false
                }
            },
            "source": "Let\u2019s see how many of each class is in our data set "
        },
        {
            "cell_type": "code",
            "execution_count": 309,
            "metadata": {
                "button": false,
                "new_sheet": false,
                "run_control": {
                    "read_only": false
                }
            },
            "outputs": [
                {
                    "data": {
                        "text/plain": "PAIDOFF       260\nCOLLECTION     86\nName: loan_status, dtype: int64"
                    },
                    "execution_count": 309,
                    "metadata": {},
                    "output_type": "execute_result"
                }
            ],
            "source": "df['loan_status'].value_counts()"
        },
        {
            "cell_type": "markdown",
            "metadata": {
                "button": false,
                "new_sheet": false,
                "run_control": {
                    "read_only": false
                }
            },
            "source": "260 people have paid off the loan on time while 86 have gone into collection \n"
        },
        {
            "cell_type": "markdown",
            "metadata": {},
            "source": "Lets plot some columns to underestand data better:"
        },
        {
            "cell_type": "code",
            "execution_count": 6,
            "metadata": {},
            "outputs": [
                {
                    "name": "stdout",
                    "output_type": "stream",
                    "text": "Solving environment: \\ ^C\nfailed\n\nCondaError: KeyboardInterrupt\n\n"
                }
            ],
            "source": "# notice: installing seaborn might takes a few minutes\n!conda install -c anaconda seaborn -y"
        },
        {
            "cell_type": "code",
            "execution_count": 310,
            "metadata": {},
            "outputs": [
                {
                    "name": "stdout",
                    "output_type": "stream",
                    "text": "[ 300.    377.78  455.56  533.33  611.11  688.89  766.67  844.44  922.22\n 1000.  ]\n"
                },
                {
                    "data": {
                        "image/png": "[encoded data removed]",
                        "text/plain": "<Figure size 432x216 with 2 Axes>"
                    },
                    "metadata": {
                        "needs_background": "light"
                    },
                    "output_type": "display_data"
                }
            ],
            "source": "import seaborn as sns\n\nbins = np.linspace(df.Principal.min(), df.Principal.max(), 10)\nprint(bins)\ng = sns.FacetGrid(df, col=\"Gender\", hue=\"loan_status\", palette=\"Set1\", col_wrap=2)\ng.map(plt.hist, 'Principal', bins=bins, ec=\"k\")\n\ng.axes[-1].legend()\nplt.show()"
        },
        {
            "cell_type": "code",
            "execution_count": 311,
            "metadata": {
                "button": false,
                "new_sheet": false,
                "run_control": {
                    "read_only": false
                }
            },
            "outputs": [
                {
                    "name": "stdout",
                    "output_type": "stream",
                    "text": "[18.   21.67 25.33 29.   32.67 36.33 40.   43.67 47.33 51.  ]\n"
                },
                {
                    "data": {
                        "image/png": "[encoded data removed]",
                        "text/plain": "<Figure size 432x216 with 2 Axes>"
                    },
                    "metadata": {
                        "needs_background": "light"
                    },
                    "output_type": "display_data"
                }
            ],
            "source": "bins = np.linspace(df.age.min(), df.age.max(), 10)\nprint(bins)\ng = sns.FacetGrid(df, col=\"Gender\", hue=\"loan_status\", palette=\"Set1\", col_wrap=2)\ng.map(plt.hist, 'age', bins=bins, ec=\"k\")\n\ng.axes[-1].legend()\nplt.show()"
        },
        {
            "cell_type": "markdown",
            "metadata": {
                "button": false,
                "new_sheet": false,
                "run_control": {
                    "read_only": false
                }
            },
            "source": "# Pre-processing:  Feature selection/extraction"
        },
        {
            "cell_type": "markdown",
            "metadata": {
                "button": false,
                "new_sheet": false,
                "run_control": {
                    "read_only": false
                }
            },
            "source": "### Lets look at the day of the week people get the loan "
        },
        {
            "cell_type": "code",
            "execution_count": 312,
            "metadata": {
                "button": false,
                "new_sheet": false,
                "run_control": {
                    "read_only": false
                }
            },
            "outputs": [
                {
                    "data": {
                        "image/png": "[encoded data removed]",
                        "text/plain": "<Figure size 432x216 with 2 Axes>"
                    },
                    "metadata": {
                        "needs_background": "light"
                    },
                    "output_type": "display_data"
                }
            ],
            "source": "df['dayofweek'] = df['effective_date'].dt.dayofweek\nbins = np.linspace(df.dayofweek.min(), df.dayofweek.max(), 10)\ng = sns.FacetGrid(df, col=\"Gender\", hue=\"loan_status\", palette=\"Set1\", col_wrap=2)\ng.map(plt.hist, 'dayofweek', bins=bins, ec=\"k\")\ng.axes[-1].legend()\nplt.show()\n"
        },
        {
            "cell_type": "markdown",
            "metadata": {
                "button": false,
                "new_sheet": false,
                "run_control": {
                    "read_only": false
                }
            },
            "source": "We see that people who get the loan at the end of the week dont pay it off, so lets use Feature binarization to set a threshold values less then day 4 "
        },
        {
            "cell_type": "code",
            "execution_count": 313,
            "metadata": {
                "button": false,
                "new_sheet": false,
                "run_control": {
                    "read_only": false
                }
            },
            "outputs": [
                {
                    "data": {
                        "text/html": "<div>\n<style scoped>\n    .dataframe tbody tr th:only-of-type {\n        vertical-align: middle;\n    }\n\n    .dataframe tbody tr th {\n        vertical-align: top;\n    }\n\n    .dataframe thead th {\n        text-align: right;\n    }\n</style>\n<table border=\"1\" class=\"dataframe\">\n  <thead>\n    <tr style=\"text-align: right;\">\n      <th></th>\n      <th>Unnamed: 0</th>\n      <th>Unnamed: 0.1</th>\n      <th>loan_status</th>\n      <th>Principal</th>\n      <th>terms</th>\n      <th>effective_date</th>\n      <th>due_date</th>\n      <th>age</th>\n      <th>education</th>\n      <th>Gender</th>\n      <th>dayofweek</th>\n      <th>weekend</th>\n    </tr>\n  </thead>\n  <tbody>\n    <tr>\n      <th>0</th>\n      <td>0</td>\n      <td>0</td>\n      <td>PAIDOFF</td>\n      <td>1000</td>\n      <td>30</td>\n      <td>2016-09-08</td>\n      <td>2016-10-07</td>\n      <td>45</td>\n      <td>High School or Below</td>\n      <td>male</td>\n      <td>3</td>\n      <td>0</td>\n    </tr>\n    <tr>\n      <th>1</th>\n      <td>2</td>\n      <td>2</td>\n      <td>PAIDOFF</td>\n      <td>1000</td>\n      <td>30</td>\n      <td>2016-09-08</td>\n      <td>2016-10-07</td>\n      <td>33</td>\n      <td>Bechalor</td>\n      <td>female</td>\n      <td>3</td>\n      <td>0</td>\n    </tr>\n    <tr>\n      <th>2</th>\n      <td>3</td>\n      <td>3</td>\n      <td>PAIDOFF</td>\n      <td>1000</td>\n      <td>15</td>\n      <td>2016-09-08</td>\n      <td>2016-09-22</td>\n      <td>27</td>\n      <td>college</td>\n      <td>male</td>\n      <td>3</td>\n      <td>0</td>\n    </tr>\n    <tr>\n      <th>3</th>\n      <td>4</td>\n      <td>4</td>\n      <td>PAIDOFF</td>\n      <td>1000</td>\n      <td>30</td>\n      <td>2016-09-09</td>\n      <td>2016-10-08</td>\n      <td>28</td>\n      <td>college</td>\n      <td>female</td>\n      <td>4</td>\n      <td>1</td>\n    </tr>\n    <tr>\n      <th>4</th>\n      <td>6</td>\n      <td>6</td>\n      <td>PAIDOFF</td>\n      <td>1000</td>\n      <td>30</td>\n      <td>2016-09-09</td>\n      <td>2016-10-08</td>\n      <td>29</td>\n      <td>college</td>\n      <td>male</td>\n      <td>4</td>\n      <td>1</td>\n    </tr>\n  </tbody>\n</table>\n</div>",
                        "text/plain": "   Unnamed: 0  Unnamed: 0.1 loan_status  Principal  terms effective_date  \\\n0           0             0     PAIDOFF       1000     30     2016-09-08   \n1           2             2     PAIDOFF       1000     30     2016-09-08   \n2           3             3     PAIDOFF       1000     15     2016-09-08   \n3           4             4     PAIDOFF       1000     30     2016-09-09   \n4           6             6     PAIDOFF       1000     30     2016-09-09   \n\n    due_date  age             education  Gender  dayofweek  weekend  \n0 2016-10-07   45  High School or Below    male          3        0  \n1 2016-10-07   33              Bechalor  female          3        0  \n2 2016-09-22   27               college    male          3        0  \n3 2016-10-08   28               college  female          4        1  \n4 2016-10-08   29               college    male          4        1  "
                    },
                    "execution_count": 313,
                    "metadata": {},
                    "output_type": "execute_result"
                }
            ],
            "source": "df['weekend'] = df['dayofweek'].apply(lambda x: 1 if (x>3)  else 0)\ndf.head()"
        },
        {
            "cell_type": "markdown",
            "metadata": {
                "button": false,
                "new_sheet": false,
                "run_control": {
                    "read_only": false
                }
            },
            "source": "## Convert Categorical features to numerical values"
        },
        {
            "cell_type": "markdown",
            "metadata": {
                "button": false,
                "new_sheet": false,
                "run_control": {
                    "read_only": false
                }
            },
            "source": "Lets look at gender:"
        },
        {
            "cell_type": "code",
            "execution_count": 314,
            "metadata": {
                "button": false,
                "new_sheet": false,
                "run_control": {
                    "read_only": false
                }
            },
            "outputs": [
                {
                    "data": {
                        "text/plain": "Gender  loan_status\nfemale  PAIDOFF        0.865385\n        COLLECTION     0.134615\nmale    PAIDOFF        0.731293\n        COLLECTION     0.268707\nName: loan_status, dtype: float64"
                    },
                    "execution_count": 314,
                    "metadata": {},
                    "output_type": "execute_result"
                }
            ],
            "source": "df.groupby(['Gender'])['loan_status'].value_counts(normalize=True)"
        },
        {
            "cell_type": "markdown",
            "metadata": {
                "button": false,
                "new_sheet": false,
                "run_control": {
                    "read_only": false
                }
            },
            "source": "86 % of female pay there loans while only 73 % of males pay there loan\n"
        },
        {
            "cell_type": "markdown",
            "metadata": {
                "button": false,
                "new_sheet": false,
                "run_control": {
                    "read_only": false
                }
            },
            "source": "Lets convert male to 0 and female to 1:\n"
        },
        {
            "cell_type": "code",
            "execution_count": 315,
            "metadata": {
                "button": false,
                "new_sheet": false,
                "run_control": {
                    "read_only": false
                }
            },
            "outputs": [
                {
                    "data": {
                        "text/html": "<div>\n<style scoped>\n    .dataframe tbody tr th:only-of-type {\n        vertical-align: middle;\n    }\n\n    .dataframe tbody tr th {\n        vertical-align: top;\n    }\n\n    .dataframe thead th {\n        text-align: right;\n    }\n</style>\n<table border=\"1\" class=\"dataframe\">\n  <thead>\n    <tr style=\"text-align: right;\">\n      <th></th>\n      <th>Unnamed: 0</th>\n      <th>Unnamed: 0.1</th>\n      <th>loan_status</th>\n      <th>Principal</th>\n      <th>terms</th>\n      <th>effective_date</th>\n      <th>due_date</th>\n      <th>age</th>\n      <th>education</th>\n      <th>Gender</th>\n      <th>dayofweek</th>\n      <th>weekend</th>\n    </tr>\n  </thead>\n  <tbody>\n    <tr>\n      <th>0</th>\n      <td>0</td>\n      <td>0</td>\n      <td>PAIDOFF</td>\n      <td>1000</td>\n      <td>30</td>\n      <td>2016-09-08</td>\n      <td>2016-10-07</td>\n      <td>45</td>\n      <td>High School or Below</td>\n      <td>0</td>\n      <td>3</td>\n      <td>0</td>\n    </tr>\n    <tr>\n      <th>1</th>\n      <td>2</td>\n      <td>2</td>\n      <td>PAIDOFF</td>\n      <td>1000</td>\n      <td>30</td>\n      <td>2016-09-08</td>\n      <td>2016-10-07</td>\n      <td>33</td>\n      <td>Bechalor</td>\n      <td>1</td>\n      <td>3</td>\n      <td>0</td>\n    </tr>\n    <tr>\n      <th>2</th>\n      <td>3</td>\n      <td>3</td>\n      <td>PAIDOFF</td>\n      <td>1000</td>\n      <td>15</td>\n      <td>2016-09-08</td>\n      <td>2016-09-22</td>\n      <td>27</td>\n      <td>college</td>\n      <td>0</td>\n      <td>3</td>\n      <td>0</td>\n    </tr>\n    <tr>\n      <th>3</th>\n      <td>4</td>\n      <td>4</td>\n      <td>PAIDOFF</td>\n      <td>1000</td>\n      <td>30</td>\n      <td>2016-09-09</td>\n      <td>2016-10-08</td>\n      <td>28</td>\n      <td>college</td>\n      <td>1</td>\n      <td>4</td>\n      <td>1</td>\n    </tr>\n    <tr>\n      <th>4</th>\n      <td>6</td>\n      <td>6</td>\n      <td>PAIDOFF</td>\n      <td>1000</td>\n      <td>30</td>\n      <td>2016-09-09</td>\n      <td>2016-10-08</td>\n      <td>29</td>\n      <td>college</td>\n      <td>0</td>\n      <td>4</td>\n      <td>1</td>\n    </tr>\n  </tbody>\n</table>\n</div>",
                        "text/plain": "   Unnamed: 0  Unnamed: 0.1 loan_status  Principal  terms effective_date  \\\n0           0             0     PAIDOFF       1000     30     2016-09-08   \n1           2             2     PAIDOFF       1000     30     2016-09-08   \n2           3             3     PAIDOFF       1000     15     2016-09-08   \n3           4             4     PAIDOFF       1000     30     2016-09-09   \n4           6             6     PAIDOFF       1000     30     2016-09-09   \n\n    due_date  age             education  Gender  dayofweek  weekend  \n0 2016-10-07   45  High School or Below       0          3        0  \n1 2016-10-07   33              Bechalor       1          3        0  \n2 2016-09-22   27               college       0          3        0  \n3 2016-10-08   28               college       1          4        1  \n4 2016-10-08   29               college       0          4        1  "
                    },
                    "execution_count": 315,
                    "metadata": {},
                    "output_type": "execute_result"
                }
            ],
            "source": "df['Gender'].replace(['male','female'], [0,1],inplace=True)\ndf.head()"
        },
        {
            "cell_type": "markdown",
            "metadata": {
                "button": false,
                "new_sheet": false,
                "run_control": {
                    "read_only": false
                }
            },
            "source": "## One Hot Encoding  \n#### How about education?"
        },
        {
            "cell_type": "code",
            "execution_count": 316,
            "metadata": {
                "button": false,
                "new_sheet": false,
                "run_control": {
                    "read_only": false
                }
            },
            "outputs": [
                {
                    "data": {
                        "text/plain": "education             loan_status\nBechalor              PAIDOFF        0.750000\n                      COLLECTION     0.250000\nHigh School or Below  PAIDOFF        0.741722\n                      COLLECTION     0.258278\nMaster or Above       COLLECTION     0.500000\n                      PAIDOFF        0.500000\ncollege               PAIDOFF        0.765101\n                      COLLECTION     0.234899\nName: loan_status, dtype: float64"
                    },
                    "execution_count": 316,
                    "metadata": {},
                    "output_type": "execute_result"
                }
            ],
            "source": "df.groupby(['education'])['loan_status'].value_counts(normalize=True)"
        },
        {
            "cell_type": "markdown",
            "metadata": {
                "button": false,
                "new_sheet": false,
                "run_control": {
                    "read_only": false
                }
            },
            "source": "#### Feature befor One Hot Encoding"
        },
        {
            "cell_type": "code",
            "execution_count": 317,
            "metadata": {
                "button": false,
                "new_sheet": false,
                "run_control": {
                    "read_only": false
                }
            },
            "outputs": [
                {
                    "data": {
                        "text/html": "<div>\n<style scoped>\n    .dataframe tbody tr th:only-of-type {\n        vertical-align: middle;\n    }\n\n    .dataframe tbody tr th {\n        vertical-align: top;\n    }\n\n    .dataframe thead th {\n        text-align: right;\n    }\n</style>\n<table border=\"1\" class=\"dataframe\">\n  <thead>\n    <tr style=\"text-align: right;\">\n      <th></th>\n      <th>Principal</th>\n      <th>terms</th>\n      <th>age</th>\n      <th>Gender</th>\n      <th>education</th>\n    </tr>\n  </thead>\n  <tbody>\n    <tr>\n      <th>0</th>\n      <td>1000</td>\n      <td>30</td>\n      <td>45</td>\n      <td>0</td>\n      <td>High School or Below</td>\n    </tr>\n    <tr>\n      <th>1</th>\n      <td>1000</td>\n      <td>30</td>\n      <td>33</td>\n      <td>1</td>\n      <td>Bechalor</td>\n    </tr>\n    <tr>\n      <th>2</th>\n      <td>1000</td>\n      <td>15</td>\n      <td>27</td>\n      <td>0</td>\n      <td>college</td>\n    </tr>\n    <tr>\n      <th>3</th>\n      <td>1000</td>\n      <td>30</td>\n      <td>28</td>\n      <td>1</td>\n      <td>college</td>\n    </tr>\n    <tr>\n      <th>4</th>\n      <td>1000</td>\n      <td>30</td>\n      <td>29</td>\n      <td>0</td>\n      <td>college</td>\n    </tr>\n  </tbody>\n</table>\n</div>",
                        "text/plain": "   Principal  terms  age  Gender             education\n0       1000     30   45       0  High School or Below\n1       1000     30   33       1              Bechalor\n2       1000     15   27       0               college\n3       1000     30   28       1               college\n4       1000     30   29       0               college"
                    },
                    "execution_count": 317,
                    "metadata": {},
                    "output_type": "execute_result"
                }
            ],
            "source": "df[['Principal','terms','age','Gender','education']].head()"
        },
        {
            "cell_type": "markdown",
            "metadata": {
                "button": false,
                "new_sheet": false,
                "run_control": {
                    "read_only": false
                }
            },
            "source": "#### Use one hot encoding technique to conver categorical varables to binary variables and append them to the feature Data Frame "
        },
        {
            "cell_type": "code",
            "execution_count": 318,
            "metadata": {
                "button": false,
                "new_sheet": false,
                "run_control": {
                    "read_only": false
                }
            },
            "outputs": [
                {
                    "data": {
                        "text/html": "<div>\n<style scoped>\n    .dataframe tbody tr th:only-of-type {\n        vertical-align: middle;\n    }\n\n    .dataframe tbody tr th {\n        vertical-align: top;\n    }\n\n    .dataframe thead th {\n        text-align: right;\n    }\n</style>\n<table border=\"1\" class=\"dataframe\">\n  <thead>\n    <tr style=\"text-align: right;\">\n      <th></th>\n      <th>Principal</th>\n      <th>terms</th>\n      <th>age</th>\n      <th>Gender</th>\n      <th>weekend</th>\n      <th>Bechalor</th>\n      <th>High School or Below</th>\n      <th>college</th>\n    </tr>\n  </thead>\n  <tbody>\n    <tr>\n      <th>0</th>\n      <td>1000</td>\n      <td>30</td>\n      <td>45</td>\n      <td>0</td>\n      <td>0</td>\n      <td>0</td>\n      <td>1</td>\n      <td>0</td>\n    </tr>\n    <tr>\n      <th>1</th>\n      <td>1000</td>\n      <td>30</td>\n      <td>33</td>\n      <td>1</td>\n      <td>0</td>\n      <td>1</td>\n      <td>0</td>\n      <td>0</td>\n    </tr>\n    <tr>\n      <th>2</th>\n      <td>1000</td>\n      <td>15</td>\n      <td>27</td>\n      <td>0</td>\n      <td>0</td>\n      <td>0</td>\n      <td>0</td>\n      <td>1</td>\n    </tr>\n    <tr>\n      <th>3</th>\n      <td>1000</td>\n      <td>30</td>\n      <td>28</td>\n      <td>1</td>\n      <td>1</td>\n      <td>0</td>\n      <td>0</td>\n      <td>1</td>\n    </tr>\n    <tr>\n      <th>4</th>\n      <td>1000</td>\n      <td>30</td>\n      <td>29</td>\n      <td>0</td>\n      <td>1</td>\n      <td>0</td>\n      <td>0</td>\n      <td>1</td>\n    </tr>\n  </tbody>\n</table>\n</div>",
                        "text/plain": "   Principal  terms  age  Gender  weekend  Bechalor  High School or Below  \\\n0       1000     30   45       0        0         0                     1   \n1       1000     30   33       1        0         1                     0   \n2       1000     15   27       0        0         0                     0   \n3       1000     30   28       1        1         0                     0   \n4       1000     30   29       0        1         0                     0   \n\n   college  \n0        0  \n1        0  \n2        1  \n3        1  \n4        1  "
                    },
                    "execution_count": 318,
                    "metadata": {},
                    "output_type": "execute_result"
                }
            ],
            "source": "Feature = df[['Principal','terms','age','Gender','weekend']]\nFeature = pd.concat([Feature,pd.get_dummies(df['education'])], axis=1)\nFeature.drop(['Master or Above'], axis = 1,inplace=True)\nFeature.head()\n"
        },
        {
            "cell_type": "markdown",
            "metadata": {
                "button": false,
                "new_sheet": false,
                "run_control": {
                    "read_only": false
                }
            },
            "source": "### Feature selection"
        },
        {
            "cell_type": "markdown",
            "metadata": {
                "button": false,
                "new_sheet": false,
                "run_control": {
                    "read_only": false
                }
            },
            "source": "Lets defind feature sets, X:"
        },
        {
            "cell_type": "code",
            "execution_count": 319,
            "metadata": {
                "button": false,
                "new_sheet": false,
                "run_control": {
                    "read_only": false
                }
            },
            "outputs": [
                {
                    "data": {
                        "text/html": "<div>\n<style scoped>\n    .dataframe tbody tr th:only-of-type {\n        vertical-align: middle;\n    }\n\n    .dataframe tbody tr th {\n        vertical-align: top;\n    }\n\n    .dataframe thead th {\n        text-align: right;\n    }\n</style>\n<table border=\"1\" class=\"dataframe\">\n  <thead>\n    <tr style=\"text-align: right;\">\n      <th></th>\n      <th>Principal</th>\n      <th>terms</th>\n      <th>age</th>\n      <th>Gender</th>\n      <th>weekend</th>\n      <th>Bechalor</th>\n      <th>High School or Below</th>\n      <th>college</th>\n    </tr>\n  </thead>\n  <tbody>\n    <tr>\n      <th>0</th>\n      <td>1000</td>\n      <td>30</td>\n      <td>45</td>\n      <td>0</td>\n      <td>0</td>\n      <td>0</td>\n      <td>1</td>\n      <td>0</td>\n    </tr>\n    <tr>\n      <th>1</th>\n      <td>1000</td>\n      <td>30</td>\n      <td>33</td>\n      <td>1</td>\n      <td>0</td>\n      <td>1</td>\n      <td>0</td>\n      <td>0</td>\n    </tr>\n    <tr>\n      <th>2</th>\n      <td>1000</td>\n      <td>15</td>\n      <td>27</td>\n      <td>0</td>\n      <td>0</td>\n      <td>0</td>\n      <td>0</td>\n      <td>1</td>\n    </tr>\n    <tr>\n      <th>3</th>\n      <td>1000</td>\n      <td>30</td>\n      <td>28</td>\n      <td>1</td>\n      <td>1</td>\n      <td>0</td>\n      <td>0</td>\n      <td>1</td>\n    </tr>\n    <tr>\n      <th>4</th>\n      <td>1000</td>\n      <td>30</td>\n      <td>29</td>\n      <td>0</td>\n      <td>1</td>\n      <td>0</td>\n      <td>0</td>\n      <td>1</td>\n    </tr>\n  </tbody>\n</table>\n</div>",
                        "text/plain": "   Principal  terms  age  Gender  weekend  Bechalor  High School or Below  \\\n0       1000     30   45       0        0         0                     1   \n1       1000     30   33       1        0         1                     0   \n2       1000     15   27       0        0         0                     0   \n3       1000     30   28       1        1         0                     0   \n4       1000     30   29       0        1         0                     0   \n\n   college  \n0        0  \n1        0  \n2        1  \n3        1  \n4        1  "
                    },
                    "execution_count": 319,
                    "metadata": {},
                    "output_type": "execute_result"
                }
            ],
            "source": "X = Feature\nX[0:5]"
        },
        {
            "cell_type": "markdown",
            "metadata": {
                "button": false,
                "new_sheet": false,
                "run_control": {
                    "read_only": false
                }
            },
            "source": "What are our lables?"
        },
        {
            "cell_type": "code",
            "execution_count": 320,
            "metadata": {
                "button": false,
                "new_sheet": false,
                "run_control": {
                    "read_only": false
                }
            },
            "outputs": [
                {
                    "data": {
                        "text/plain": "array(['PAIDOFF', 'PAIDOFF', 'PAIDOFF', 'PAIDOFF', 'PAIDOFF'],\n      dtype=object)"
                    },
                    "execution_count": 320,
                    "metadata": {},
                    "output_type": "execute_result"
                }
            ],
            "source": "y = df['loan_status'].values\ny[0:5]"
        },
        {
            "cell_type": "markdown",
            "metadata": {
                "button": false,
                "new_sheet": false,
                "run_control": {
                    "read_only": false
                }
            },
            "source": "## Normalize Data "
        },
        {
            "cell_type": "markdown",
            "metadata": {
                "button": false,
                "new_sheet": false,
                "run_control": {
                    "read_only": false
                }
            },
            "source": "Data Standardization give data zero mean and unit variance (technically should be done after train test split )"
        },
        {
            "cell_type": "code",
            "execution_count": 321,
            "metadata": {
                "button": false,
                "new_sheet": false,
                "run_control": {
                    "read_only": false
                }
            },
            "outputs": [
                {
                    "name": "stderr",
                    "output_type": "stream",
                    "text": "/opt/conda/envs/Python36/lib/python3.6/site-packages/sklearn/preprocessing/data.py:645: DataConversionWarning: Data with input dtype uint8, int64 were all converted to float64 by StandardScaler.\n  return self.partial_fit(X, y)\n/opt/conda/envs/Python36/lib/python3.6/site-packages/ipykernel/__main__.py:1: DataConversionWarning: Data with input dtype uint8, int64 were all converted to float64 by StandardScaler.\n  if __name__ == '__main__':\n"
                },
                {
                    "data": {
                        "text/plain": "array([[ 0.52,  0.92,  2.33, -0.42, -1.21, -0.38,  1.14, -0.87],\n       [ 0.52,  0.92,  0.34,  2.38, -1.21,  2.62, -0.88, -0.87],\n       [ 0.52, -0.96, -0.65, -0.42, -1.21, -0.38, -0.88,  1.15],\n       [ 0.52,  0.92, -0.49,  2.38,  0.83, -0.38, -0.88,  1.15],\n       [ 0.52,  0.92, -0.32, -0.42,  0.83, -0.38, -0.88,  1.15]])"
                    },
                    "execution_count": 321,
                    "metadata": {},
                    "output_type": "execute_result"
                }
            ],
            "source": "X= preprocessing.StandardScaler().fit(X).transform(X)\nX[0:5]"
        },
        {
            "cell_type": "markdown",
            "metadata": {
                "button": false,
                "new_sheet": false,
                "run_control": {
                    "read_only": false
                }
            },
            "source": "# Classification "
        },
        {
            "cell_type": "markdown",
            "metadata": {
                "button": false,
                "new_sheet": false,
                "run_control": {
                    "read_only": false
                }
            },
            "source": "Now, it is your turn, use the training set to build an accurate model. Then use the test set to report the accuracy of the model\nYou should use the following algorithm:\n- K Nearest Neighbor(KNN)\n- Decision Tree\n- Support Vector Machine\n- Logistic Regression\n\n\n\n__ Notice:__ \n- You can go above and change the pre-processing, feature selection, feature-extraction, and so on, to make a better model.\n- You should use either scikit-learn, Scipy or Numpy libraries for developing the classification algorithms.\n- You should include the code of the algorithm in the following cells."
        },
        {
            "cell_type": "markdown",
            "metadata": {},
            "source": "# Data Preparation"
        },
        {
            "cell_type": "markdown",
            "metadata": {},
            "source": "Unbalanced data set. There are too many 'PAIDOFF' values compared to the 'COLLECTION' data"
        },
        {
            "cell_type": "code",
            "execution_count": 359,
            "metadata": {},
            "outputs": [
                {
                    "name": "stdout",
                    "output_type": "stream",
                    "text": "(242, 8) (242,)\n(104, 8) (104,)\n"
                }
            ],
            "source": "X_train, X_test, y_train, y_test = train_test_split(X, y, test_size = 0.3 , random_state = 10)\nprint(X_train.shape, y_train.shape)\nprint(X_test.shape, y_test.shape)"
        },
        {
            "cell_type": "code",
            "execution_count": 360,
            "metadata": {},
            "outputs": [
                {
                    "data": {
                        "text/html": "<div>\n<style scoped>\n    .dataframe tbody tr th:only-of-type {\n        vertical-align: middle;\n    }\n\n    .dataframe tbody tr th {\n        vertical-align: top;\n    }\n\n    .dataframe thead th {\n        text-align: right;\n    }\n</style>\n<table border=\"1\" class=\"dataframe\">\n  <thead>\n    <tr style=\"text-align: right;\">\n      <th></th>\n      <th>0</th>\n      <th>1</th>\n      <th>2</th>\n      <th>3</th>\n      <th>4</th>\n      <th>5</th>\n      <th>6</th>\n      <th>7</th>\n      <th>loan_status</th>\n    </tr>\n  </thead>\n  <tbody>\n    <tr>\n      <th>0</th>\n      <td>0.515785</td>\n      <td>-0.959111</td>\n      <td>-0.487392</td>\n      <td>-0.420560</td>\n      <td>0.829340</td>\n      <td>-0.381701</td>\n      <td>1.136394</td>\n      <td>-0.869681</td>\n      <td>PAIDOFF</td>\n    </tr>\n    <tr>\n      <th>1</th>\n      <td>0.515785</td>\n      <td>-1.961686</td>\n      <td>0.010064</td>\n      <td>-0.420560</td>\n      <td>0.829340</td>\n      <td>2.619854</td>\n      <td>-0.879977</td>\n      <td>-0.869681</td>\n      <td>PAIDOFF</td>\n    </tr>\n    <tr>\n      <th>2</th>\n      <td>0.515785</td>\n      <td>0.920718</td>\n      <td>0.175883</td>\n      <td>-0.420560</td>\n      <td>-1.205778</td>\n      <td>-0.381701</td>\n      <td>-0.879977</td>\n      <td>1.149847</td>\n      <td>PAIDOFF</td>\n    </tr>\n    <tr>\n      <th>3</th>\n      <td>0.515785</td>\n      <td>0.920718</td>\n      <td>1.170795</td>\n      <td>2.377782</td>\n      <td>0.829340</td>\n      <td>-0.381701</td>\n      <td>-0.879977</td>\n      <td>1.149847</td>\n      <td>COLLECTION</td>\n    </tr>\n    <tr>\n      <th>4</th>\n      <td>0.515785</td>\n      <td>0.920718</td>\n      <td>-0.984848</td>\n      <td>-0.420560</td>\n      <td>0.829340</td>\n      <td>-0.381701</td>\n      <td>1.136394</td>\n      <td>-0.869681</td>\n      <td>PAIDOFF</td>\n    </tr>\n  </tbody>\n</table>\n</div>",
                        "text/plain": "          0         1         2         3         4         5         6  \\\n0  0.515785 -0.959111 -0.487392 -0.420560  0.829340 -0.381701  1.136394   \n1  0.515785 -1.961686  0.010064 -0.420560  0.829340  2.619854 -0.879977   \n2  0.515785  0.920718  0.175883 -0.420560 -1.205778 -0.381701 -0.879977   \n3  0.515785  0.920718  1.170795  2.377782  0.829340 -0.381701 -0.879977   \n4  0.515785  0.920718 -0.984848 -0.420560  0.829340 -0.381701  1.136394   \n\n          7 loan_status  \n0 -0.869681     PAIDOFF  \n1 -0.869681     PAIDOFF  \n2  1.149847     PAIDOFF  \n3  1.149847  COLLECTION  \n4 -0.869681     PAIDOFF  "
                    },
                    "execution_count": 360,
                    "metadata": {},
                    "output_type": "execute_result"
                }
            ],
            "source": "##X_train = pd.DataFrame(data=X_train[1:,1:], index=X_train[1:,0],columns=X_train[0,1:])  \nX_trainnorm = pd.DataFrame(X_train)  \ny_trainnorm = pd.DataFrame(y_train)\ny_trainnorm.columns = (['loan_status'])\n\n#concatenate our training data together\nX_norm = pd.concat([X_trainnorm, y_trainnorm], axis = 1)\nX_norm.head()\n\n"
        },
        {
            "cell_type": "code",
            "execution_count": 361,
            "metadata": {},
            "outputs": [
                {
                    "name": "stdout",
                    "output_type": "stream",
                    "text": "(178, 9)\n(64, 9)\n"
                }
            ],
            "source": "#separate minority and majority classes\nPAIDOFF = X_norm[X_norm.loan_status == 'PAIDOFF']\nCOLLECTION = X_norm[X_norm.loan_status == 'COLLECTION']\nprint(PAIDOFF.shape)\nprint(COLLECTION.shape)"
        },
        {
            "cell_type": "code",
            "execution_count": 362,
            "metadata": {},
            "outputs": [
                {
                    "name": "stdout",
                    "output_type": "stream",
                    "text": "(178, 9)\n"
                }
            ],
            "source": "Collection_upsampled = resample(COLLECTION, replace = True, n_samples = len(PAIDOFF), random_state = 10)\nprint(Collection_upsampled.shape)"
        },
        {
            "cell_type": "code",
            "execution_count": 363,
            "metadata": {},
            "outputs": [
                {
                    "data": {
                        "text/plain": "PAIDOFF       178\nCOLLECTION    178\nName: loan_status, dtype: int64"
                    },
                    "execution_count": 363,
                    "metadata": {},
                    "output_type": "execute_result"
                }
            ],
            "source": "#combine majority and upsamples minority\nupsample = pd.concat([PAIDOFF,Collection_upsampled])\nupsample.loan_status.value_counts()"
        },
        {
            "cell_type": "code",
            "execution_count": 364,
            "metadata": {},
            "outputs": [
                {
                    "name": "stdout",
                    "output_type": "stream",
                    "text": "(356,)\n(356, 8)\n(242,)\n(242, 8)\n"
                }
            ],
            "source": "y_trainbalanced = upsample.loan_status.values\nX_trainbalanced = upsample.drop('loan_status', axis = 1)\nprint(y_trainbalanced.shape)\nprint(X_trainbalanced.shape)\nprint(y_train.shape)\nprint(X_train.shape)\n\n\n"
        },
        {
            "cell_type": "markdown",
            "metadata": {},
            "source": "# Definition of the Confusion Matrix"
        },
        {
            "cell_type": "code",
            "execution_count": 365,
            "metadata": {},
            "outputs": [],
            "source": "from sklearn.metrics import classification_report, confusion_matrix\nimport itertools\ndef plot_confusion_matrix(cm, classes,\n                          normalize=False,\n                          title='Confusion matrix',\n                          cmap=plt.cm.Blues):\n    \"\"\"\n    This function prints and plots the confusion matrix.\n    Normalization can be applied by setting `normalize=True`.\n    \"\"\"\n    if normalize:\n        cm = cm.astype('float') / cm.sum(axis=1)[:, np.newaxis]\n        #print(\"Normalized confusion matrix\")\n    \n\n    #print(cm)\n\n    plt.imshow(cm, interpolation='nearest', cmap=cmap)\n    plt.title(title)\n    plt.colorbar()\n    tick_marks = np.arange(len(classes))\n    plt.xticks(tick_marks, classes, rotation=45)\n    plt.yticks(tick_marks, classes)\n\n    fmt = '.2f' if normalize else 'd'\n    thresh = cm.max() / 2.\n    for i, j in itertools.product(range(cm.shape[0]), range(cm.shape[1])):\n        plt.text(j, i, format(cm[i, j], fmt),\n                 horizontalalignment=\"center\",\n                 color=\"white\" if cm[i, j] > thresh else \"black\")\n\n    plt.tight_layout()\n    plt.ylabel('True label')\n    plt.xlabel('Predicted label')"
        },
        {
            "cell_type": "markdown",
            "metadata": {},
            "source": "# K Nearest Neighbor(KNN)\nNotice: You should find the best k to build the model with the best accuracy.  \n**warning:** You should not use the __loan_test.csv__ for finding the best k, however, you can split your train_loan.csv into train and test to find the best __k__."
        },
        {
            "cell_type": "code",
            "execution_count": 366,
            "metadata": {},
            "outputs": [
                {
                    "name": "stdout",
                    "output_type": "stream",
                    "text": "The best accuracy was : 0.8173076923076923 with k =  3\n"
                }
            ],
            "source": "Ks = 10\nmean_acc = np.zeros((Ks-1))\nstd_acc = np.zeros((Ks-1))\nfor n in range (1,Ks):\n    KNNClassifier = KNeighborsClassifier(n_neighbors = n).fit(X_train, y_train)\n    y_pred = KNNClassifier.predict(X_test)\n    mean_acc[n-1] = metrics.accuracy_score(y_test, y_pred)\n    std_acc[n-1] = np.std(y_pred==y_test)/np.sqrt(y_pred.shape[0])\n\nnp.column_stack((mean_acc,std_acc))\n\nprint(\"The best accuracy was :\", mean_acc.max(), \"with k = \", mean_acc.argmax()+1)\nk = mean_acc.argmax()+1\n\n\n\n\n"
        },
        {
            "cell_type": "code",
            "execution_count": 367,
            "metadata": {},
            "outputs": [],
            "source": "KNNClassifier = KNeighborsClassifier(n_neighbors = k).fit(X_train, y_train)\ny_predKNN = KNNClassifier.predict(X_test)"
        },
        {
            "cell_type": "code",
            "execution_count": 368,
            "metadata": {},
            "outputs": [
                {
                    "data": {
                        "text/html": "<div>\n<style scoped>\n    .dataframe tbody tr th:only-of-type {\n        vertical-align: middle;\n    }\n\n    .dataframe tbody tr th {\n        vertical-align: top;\n    }\n\n    .dataframe thead th {\n        text-align: right;\n    }\n</style>\n<table border=\"1\" class=\"dataframe\">\n  <thead>\n    <tr style=\"text-align: right;\">\n      <th></th>\n      <th>Metrics</th>\n      <th>Value_KNN</th>\n    </tr>\n  </thead>\n  <tbody>\n    <tr>\n      <th>0</th>\n      <td>Train set Accuracy</td>\n      <td>0.814050</td>\n    </tr>\n    <tr>\n      <th>1</th>\n      <td>Test set Accuracy</td>\n      <td>0.817308</td>\n    </tr>\n    <tr>\n      <th>2</th>\n      <td>F1 Score Collection</td>\n      <td>0.595745</td>\n    </tr>\n    <tr>\n      <th>3</th>\n      <td>F1 Score Paidoff</td>\n      <td>0.881988</td>\n    </tr>\n    <tr>\n      <th>4</th>\n      <td>Jaccard Index</td>\n      <td>0.817308</td>\n    </tr>\n  </tbody>\n</table>\n</div>",
                        "text/plain": "               Metrics  Value_KNN\n0   Train set Accuracy   0.814050\n1    Test set Accuracy   0.817308\n2  F1 Score Collection   0.595745\n3     F1 Score Paidoff   0.881988\n4        Jaccard Index   0.817308"
                    },
                    "execution_count": 368,
                    "metadata": {},
                    "output_type": "execute_result"
                }
            ],
            "source": "ResultAccuracyKNN = pd.DataFrame({'Metrics' : ['Train set Accuracy', 'Test set Accuracy','F1 Score Collection','F1 Score Paidoff','Jaccard Index'],\n                                  'Value_KNN': [metrics.accuracy_score(y_train, KNNClassifier.predict(X_train)),\n                                            metrics.accuracy_score(y_test, y_predKNN),\n                                            f1_score(y_test, y_predKNN, pos_label = 'COLLECTION'),\n                                            f1_score(y_test, y_predKNN, pos_label = 'PAIDOFF'),\n                                            jaccard_similarity_score(y_test, y_predKNN)\n                                           ]})\nResultAccuracyKNN"
        },
        {
            "cell_type": "code",
            "execution_count": 369,
            "metadata": {},
            "outputs": [
                {
                    "data": {
                        "image/png": "[encoded data removed]",
                        "text/plain": "<Figure size 432x288 with 2 Axes>"
                    },
                    "metadata": {
                        "needs_background": "light"
                    },
                    "output_type": "display_data"
                }
            ],
            "source": "# Compute confusion matrix\ncnf_matrix_KNN = confusion_matrix(y_test, y_predKNN, labels=['PAIDOFF','COLLECTION'])\nnp.set_printoptions(precision=2)\n\n\n# Plot non-normalized confusion matrix\nplt.figure()\nplot_confusion_matrix(cnf_matrix_KNN, classes=['churn=PAIDOFF','churn=COLLECTION'],normalize= False,  title='Confusion matrix')"
        },
        {
            "cell_type": "markdown",
            "metadata": {},
            "source": "# Decision Tree"
        },
        {
            "cell_type": "code",
            "execution_count": 370,
            "metadata": {},
            "outputs": [
                {
                    "name": "stdout",
                    "output_type": "stream",
                    "text": "The best accuracy was : 0.7884615384615384 with max_depth =  3\n"
                }
            ],
            "source": "Ks = 15\nmean_acc = np.zeros((Ks-1))\nstd_acc = np.zeros((Ks-1))\nfor n in range (3,Ks):\n    DecisionTree = DecisionTreeClassifier(criterion = \"entropy\", max_depth = n ).fit(X_train, y_train)\n    y_pred_Tree = DecisionTree.predict(X_test)\n    mean_acc[n-1] = metrics.accuracy_score(y_test, y_pred_Tree)\n    std_acc[n-1] = np.std(y_pred==y_test)/np.sqrt(y_pred.shape[0])\n    #print(\"DecisionTree accuracy: \", metrics.accuracy_score(y_test,y_pred_Tree))\n\nnp.column_stack((mean_acc,std_acc))\n\nprint(\"The best accuracy was :\", mean_acc.max(), \"with max_depth = \", mean_acc.argmax()+1)"
        },
        {
            "cell_type": "code",
            "execution_count": 371,
            "metadata": {},
            "outputs": [
                {
                    "name": "stdout",
                    "output_type": "stream",
                    "text": "DecisionTree accuracy:  0.7884615384615384\n"
                }
            ],
            "source": "    DecisionTree = DecisionTreeClassifier(criterion = \"entropy\", max_depth = mean_acc.argmax()+1 ).fit(X_train, y_train)\n    y_pred_Tree = DecisionTree.predict(X_test)\n    print(\"DecisionTree accuracy: \", metrics.accuracy_score(y_test,y_pred_Tree))"
        },
        {
            "cell_type": "code",
            "execution_count": 372,
            "metadata": {},
            "outputs": [
                {
                    "name": "stderr",
                    "output_type": "stream",
                    "text": "/opt/conda/envs/Python36/lib/python3.6/site-packages/sklearn/metrics/classification.py:1143: UndefinedMetricWarning: F-score is ill-defined and being set to 0.0 due to no predicted samples.\n  'precision', 'predicted', average, warn_for)\n"
                },
                {
                    "data": {
                        "text/html": "<div>\n<style scoped>\n    .dataframe tbody tr th:only-of-type {\n        vertical-align: middle;\n    }\n\n    .dataframe tbody tr th {\n        vertical-align: top;\n    }\n\n    .dataframe thead th {\n        text-align: right;\n    }\n</style>\n<table border=\"1\" class=\"dataframe\">\n  <thead>\n    <tr style=\"text-align: right;\">\n      <th></th>\n      <th>Metrics</th>\n      <th>Value_Tree</th>\n    </tr>\n  </thead>\n  <tbody>\n    <tr>\n      <th>0</th>\n      <td>Train set Accuracy</td>\n      <td>0.735537</td>\n    </tr>\n    <tr>\n      <th>1</th>\n      <td>Test set Accuracy</td>\n      <td>0.788462</td>\n    </tr>\n    <tr>\n      <th>2</th>\n      <td>F1 Score Collection</td>\n      <td>0.000000</td>\n    </tr>\n    <tr>\n      <th>3</th>\n      <td>F1 Score Paidoff</td>\n      <td>0.881720</td>\n    </tr>\n    <tr>\n      <th>4</th>\n      <td>Jaccard Index</td>\n      <td>0.788462</td>\n    </tr>\n  </tbody>\n</table>\n</div>",
                        "text/plain": "               Metrics  Value_Tree\n0   Train set Accuracy    0.735537\n1    Test set Accuracy    0.788462\n2  F1 Score Collection    0.000000\n3     F1 Score Paidoff    0.881720\n4        Jaccard Index    0.788462"
                    },
                    "execution_count": 372,
                    "metadata": {},
                    "output_type": "execute_result"
                }
            ],
            "source": "ResultAccuracyTree = pd.DataFrame({'Metrics' : ['Train set Accuracy', 'Test set Accuracy','F1 Score Collection','F1 Score Paidoff','Jaccard Index'],\n                                  'Value_Tree': [metrics.accuracy_score(y_train, DecisionTree.predict(X_train)),\n                                            metrics.accuracy_score(y_test, y_pred_Tree),\n                                            f1_score(y_test, y_pred_Tree, pos_label = 'COLLECTION'),\n                                            f1_score(y_test, y_pred_Tree, pos_label = 'PAIDOFF'),\n                                            jaccard_similarity_score(y_test, y_pred_Tree)\n                                           ]})\nResultAccuracyTree"
        },
        {
            "cell_type": "code",
            "execution_count": 373,
            "metadata": {},
            "outputs": [
                {
                    "data": {
                        "image/png": "[encoded data removed]",
                        "text/plain": "<Figure size 432x288 with 2 Axes>"
                    },
                    "metadata": {
                        "needs_background": "light"
                    },
                    "output_type": "display_data"
                }
            ],
            "source": "# Compute confusion matrix\ncnf_matrix_Tree = confusion_matrix(y_test, y_pred_Tree, labels=['PAIDOFF','COLLECTION'])\nnp.set_printoptions(precision=2)\n\n\n# Plot non-normalized confusion matrix\nplt.figure()\nplot_confusion_matrix(cnf_matrix_Tree, classes=['churn=PAIDOFF','churn=COLLECTION'],normalize= False,  title='Confusion matrix')"
        },
        {
            "cell_type": "markdown",
            "metadata": {},
            "source": "# Logistic Regression"
        },
        {
            "cell_type": "code",
            "execution_count": 374,
            "metadata": {},
            "outputs": [],
            "source": "# replace Paidoff value with 1 and Collection values with 0 in y_test creating new array y_test_int\ny_test_int = y_test\ny_test_int[y_test_int == 'PAIDOFF'] = 1\ny_test_int[y_test_int == 'COLLECTION'] = 0\ny_test_int=y_test_int.astype('int')\n\n\n# replace Paidoff value with 1 and Collection values with 0 in y_train creating new array y_train_int\ny_train_int = y_train\ny_train_int[y_train_int == 'PAIDOFF'] = 1\ny_train_int[y_train_int == 'COLLECTION'] = 0\ny_train_int=y_train_int.astype('int')"
        },
        {
            "cell_type": "code",
            "execution_count": 375,
            "metadata": {},
            "outputs": [
                {
                    "data": {
                        "text/plain": "LogisticRegression(C=0.01, class_weight=None, dual=False, fit_intercept=True,\n          intercept_scaling=1, max_iter=100, multi_class='warn',\n          n_jobs=None, penalty='l2', random_state=None, solver='liblinear',\n          tol=0.0001, verbose=0, warm_start=False)"
                    },
                    "execution_count": 375,
                    "metadata": {},
                    "output_type": "execute_result"
                }
            ],
            "source": "LR = LogisticRegression(C=0.01, solver = 'liblinear').fit(X_train, y_train_int)\nLR"
        },
        {
            "cell_type": "code",
            "execution_count": 376,
            "metadata": {},
            "outputs": [
                {
                    "data": {
                        "text/plain": "0.7355371900826446"
                    },
                    "execution_count": 376,
                    "metadata": {},
                    "output_type": "execute_result"
                }
            ],
            "source": "ypredLR = LR.predict(X_test)\nyproba = LR.predict_proba(X_test)\nmetrics.accuracy_score(y_train_int, LR.predict(X_train))"
        },
        {
            "cell_type": "code",
            "execution_count": 377,
            "metadata": {},
            "outputs": [
                {
                    "data": {
                        "text/html": "<div>\n<style scoped>\n    .dataframe tbody tr th:only-of-type {\n        vertical-align: middle;\n    }\n\n    .dataframe tbody tr th {\n        vertical-align: top;\n    }\n\n    .dataframe thead th {\n        text-align: right;\n    }\n</style>\n<table border=\"1\" class=\"dataframe\">\n  <thead>\n    <tr style=\"text-align: right;\">\n      <th></th>\n      <th>Metrics</th>\n      <th>Value_LR</th>\n    </tr>\n  </thead>\n  <tbody>\n    <tr>\n      <th>0</th>\n      <td>Train set Accuracy</td>\n      <td>0.735537</td>\n    </tr>\n    <tr>\n      <th>1</th>\n      <td>Test set Accuracy</td>\n      <td>0.798077</td>\n    </tr>\n    <tr>\n      <th>2</th>\n      <td>F1 Score Collection</td>\n      <td>0.222222</td>\n    </tr>\n    <tr>\n      <th>3</th>\n      <td>F1 Score Paidoff</td>\n      <td>0.883978</td>\n    </tr>\n    <tr>\n      <th>4</th>\n      <td>Jaccard Index</td>\n      <td>0.798077</td>\n    </tr>\n  </tbody>\n</table>\n</div>",
                        "text/plain": "               Metrics  Value_LR\n0   Train set Accuracy  0.735537\n1    Test set Accuracy  0.798077\n2  F1 Score Collection  0.222222\n3     F1 Score Paidoff  0.883978\n4        Jaccard Index  0.798077"
                    },
                    "execution_count": 377,
                    "metadata": {},
                    "output_type": "execute_result"
                }
            ],
            "source": "ResultAccuracyLR = pd.DataFrame({'Metrics' : ['Train set Accuracy', 'Test set Accuracy','F1 Score Collection','F1 Score Paidoff','Jaccard Index'],\n                                  'Value_LR': [metrics.accuracy_score(y_train_int, LR.predict(X_train)),\n                                            metrics.accuracy_score(y_test_int, ypredLR),\n                                            f1_score(y_test_int, ypredLR, pos_label = 0),\n                                            f1_score(y_test_int, ypredLR, pos_label = 1),\n                                            jaccard_similarity_score(y_test_int, ypredLR)\n                                           ]})\nResultAccuracyLR"
        },
        {
            "cell_type": "code",
            "execution_count": 378,
            "metadata": {},
            "outputs": [
                {
                    "data": {
                        "image/png": "[encoded data removed]",
                        "text/plain": "<Figure size 432x288 with 2 Axes>"
                    },
                    "metadata": {
                        "needs_background": "light"
                    },
                    "output_type": "display_data"
                }
            ],
            "source": "# Compute confusion matrix\ncnf_matrix_LR = confusion_matrix(y_test_int, ypredLR, labels=[1,0])\nnp.set_printoptions(precision=2)\n\n\n# Plot non-normalized confusion matrix\nplt.figure()\nplot_confusion_matrix(cnf_matrix_LR, classes=['churn=PAIDOFF','churn=COLLECTION'],normalize= False,  title='Confusion matrix')"
        },
        {
            "cell_type": "markdown",
            "metadata": {},
            "source": "# Support Vector Machine"
        },
        {
            "cell_type": "code",
            "execution_count": 379,
            "metadata": {},
            "outputs": [
                {
                    "name": "stderr",
                    "output_type": "stream",
                    "text": "/opt/conda/envs/Python36/lib/python3.6/site-packages/sklearn/svm/base.py:196: FutureWarning: The default value of gamma will change from 'auto' to 'scale' in version 0.22 to account better for unscaled features. Set gamma explicitly to 'auto' or 'scale' to avoid this warning.\n  \"avoid this warning.\", FutureWarning)\n"
                },
                {
                    "data": {
                        "text/plain": "SVC(C=1.0, cache_size=200, class_weight=None, coef0=0.0,\n  decision_function_shape='ovr', degree=3, gamma='auto_deprecated',\n  kernel='rbf', max_iter=-1, probability=False, random_state=None,\n  shrinking=True, tol=0.001, verbose=False)"
                    },
                    "execution_count": 379,
                    "metadata": {},
                    "output_type": "execute_result"
                }
            ],
            "source": "clf = svm.SVC(kernel = 'rbf')\nclf.fit(X_train, y_train_int)"
        },
        {
            "cell_type": "code",
            "execution_count": 380,
            "metadata": {},
            "outputs": [
                {
                    "data": {
                        "text/plain": "array([1, 1, 1, 1, 1])"
                    },
                    "execution_count": 380,
                    "metadata": {},
                    "output_type": "execute_result"
                }
            ],
            "source": "ypredSVM = clf.predict(X_test)\nypredSVM[0:5]"
        },
        {
            "cell_type": "code",
            "execution_count": 165,
            "metadata": {},
            "outputs": [
                {
                    "name": "stderr",
                    "output_type": "stream",
                    "text": "/opt/conda/envs/Python36/lib/python3.6/site-packages/sklearn/metrics/classification.py:1143: UndefinedMetricWarning: F-score is ill-defined and being set to 0.0 due to no predicted samples.\n  'precision', 'predicted', average, warn_for)\n"
                },
                {
                    "data": {
                        "text/html": "<div>\n<style scoped>\n    .dataframe tbody tr th:only-of-type {\n        vertical-align: middle;\n    }\n\n    .dataframe tbody tr th {\n        vertical-align: top;\n    }\n\n    .dataframe thead th {\n        text-align: right;\n    }\n</style>\n<table border=\"1\" class=\"dataframe\">\n  <thead>\n    <tr style=\"text-align: right;\">\n      <th></th>\n      <th>Metrics</th>\n      <th>Value_SVM</th>\n    </tr>\n  </thead>\n  <tbody>\n    <tr>\n      <th>0</th>\n      <td>Train set Accuracy</td>\n      <td>0.756198</td>\n    </tr>\n    <tr>\n      <th>1</th>\n      <td>Test set Accuracy</td>\n      <td>0.788462</td>\n    </tr>\n    <tr>\n      <th>2</th>\n      <td>F1 Score Collection</td>\n      <td>0.000000</td>\n    </tr>\n    <tr>\n      <th>3</th>\n      <td>F1 Score Paidoff</td>\n      <td>0.881720</td>\n    </tr>\n    <tr>\n      <th>4</th>\n      <td>Jaccard Index</td>\n      <td>0.788462</td>\n    </tr>\n  </tbody>\n</table>\n</div>",
                        "text/plain": "               Metrics  Value_SVM\n0   Train set Accuracy   0.756198\n1    Test set Accuracy   0.788462\n2  F1 Score Collection   0.000000\n3     F1 Score Paidoff   0.881720\n4        Jaccard Index   0.788462"
                    },
                    "execution_count": 165,
                    "metadata": {},
                    "output_type": "execute_result"
                }
            ],
            "source": "ResultAccuracySVM = pd.DataFrame({'Metrics' : ['Train set Accuracy', 'Test set Accuracy','F1 Score Collection','F1 Score Paidoff','Jaccard Index'],\n                                  'Value_SVM': [metrics.accuracy_score(y_train_int, clf.predict(X_train)),\n                                            metrics.accuracy_score(y_test_int, ypredSVM),\n                                            f1_score(y_test_int, ypredSVM, pos_label = 0),\n                                            f1_score(y_test_int, ypredSVM, pos_label = 1),\n                                            jaccard_similarity_score(y_test_int, ypredSVM)\n                                           ]})\nResultAccuracySVM"
        },
        {
            "cell_type": "code",
            "execution_count": 381,
            "metadata": {},
            "outputs": [
                {
                    "data": {
                        "image/png": "[encoded data removed]",
                        "text/plain": "<Figure size 432x288 with 2 Axes>"
                    },
                    "metadata": {
                        "needs_background": "light"
                    },
                    "output_type": "display_data"
                }
            ],
            "source": "# Compute confusion matrix\ncnf_matrix_SVM = confusion_matrix(y_test_int, ypredSVM, labels=[1,0])\nnp.set_printoptions(precision=2)\n\n\n# Plot non-normalized confusion matrix\nplt.figure()\nplot_confusion_matrix(cnf_matrix_SVM, classes=['churn=PAIDOFF','churn=COLLECTION'],normalize= False,  title='Confusion matrix')"
        },
        {
            "cell_type": "markdown",
            "metadata": {},
            "source": "# Model Evaluation using Test set"
        },
        {
            "cell_type": "markdown",
            "metadata": {},
            "source": "First, download and load the test set:"
        },
        {
            "cell_type": "code",
            "execution_count": 385,
            "metadata": {},
            "outputs": [
                {
                    "name": "stdout",
                    "output_type": "stream",
                    "text": "--2019-11-14 17:25:59--  https://s3-api.us-geo.objectstorage.softlayer.net/cf-courses-data/CognitiveClass/ML0101ENv3/labs/loan_test.csv\nResolving s3-api.us-geo.objectstorage.softlayer.net (s3-api.us-geo.objectstorage.softlayer.net)... 67.228.254.196\nConnecting to s3-api.us-geo.objectstorage.softlayer.net (s3-api.us-geo.objectstorage.softlayer.net)|67.228.254.196|:443... connected.\nHTTP request sent, awaiting response... 200 OK\nLength: 3642 (3.6K) [text/csv]\nSaving to: \u2018loan_test.csv\u2019\n\n100%[======================================>] 3,642       --.-K/s   in 0s      \n\n2019-11-14 17:25:59 (287 MB/s) - \u2018loan_test.csv\u2019 saved [3642/3642]\n\n"
                }
            ],
            "source": "!wget -O loan_test.csv https://s3-api.us-geo.objectstorage.softlayer.net/cf-courses-data/CognitiveClass/ML0101ENv3/labs/loan_test.csv"
        },
        {
            "cell_type": "markdown",
            "metadata": {
                "button": false,
                "new_sheet": false,
                "run_control": {
                    "read_only": false
                }
            },
            "source": "### Load Test set for evaluation "
        },
        {
            "cell_type": "code",
            "execution_count": 386,
            "metadata": {
                "button": false,
                "new_sheet": false,
                "run_control": {
                    "read_only": false
                }
            },
            "outputs": [
                {
                    "name": "stderr",
                    "output_type": "stream",
                    "text": "/opt/conda/envs/Python36/lib/python3.6/site-packages/sklearn/preprocessing/data.py:645: DataConversionWarning: Data with input dtype uint8, int64 were all converted to float64 by StandardScaler.\n  return self.partial_fit(X, y)\n/opt/conda/envs/Python36/lib/python3.6/site-packages/ipykernel/__main__.py:12: DataConversionWarning: Data with input dtype uint8, int64 were all converted to float64 by StandardScaler.\n"
                }
            ],
            "source": "test_df = pd.read_csv('loan_test.csv')\ntest_df['due_date'] = pd.to_datetime(test_df['due_date'])\ntest_df['effective_date'] = pd.to_datetime(test_df['effective_date'])\ntest_df['dayofweek'] = test_df['effective_date'].dt.dayofweek\ntest_df['weekend'] = test_df['dayofweek'].apply(lambda x: 1 if (x>3)  else 0)\ntest_df['Gender'].replace(['male','female'], [0,1],inplace=True)\nFeature_Test_Set = test_df[['Principal','terms','age','Gender','weekend']]\nFeature_Test_Set = pd.concat([Feature_Test_Set,pd.get_dummies(test_df['education'])], axis=1)\nFeature_Test_Set.drop(['Master or Above'], axis = 1,inplace=True)\nX_Test_Set = Feature_Test_Set\ny_Test_Set = test_df['loan_status'].values\nX_Test_Set= preprocessing.StandardScaler().fit(X_Test_Set).transform(X_Test_Set)\n\n\n# replace Paidoff value with 1 and Collection values with 0 in y_Test_Set creating new array y_Test_Set_int\ny_Test_Set_int[y_Test_Set == 'PAIDOFF'] = 1\ny_Test_Set_int[y_Test_Set == 'COLLECTION'] = 0\ny_Test_Set_int=y_Test_Set_int.astype('int')\n\n\n"
        },
        {
            "cell_type": "code",
            "execution_count": 387,
            "metadata": {},
            "outputs": [],
            "source": "ypred_KNN_Test = KNNClassifier.predict(X_Test_Set)\nResultAccuracyKNN_Test_Set = pd.DataFrame({'Metrics' : [ 'Test Set Accuracy','F1 Score Collection','F1 Score Paidoff','Jaccard Index','Logloss'],\n                                  'Value_KNN': [metrics.accuracy_score(y_Test_Set, ypred_KNN_Test),\n                                            f1_score(y_Test_Set, ypred_KNN_Test, pos_label = 'COLLECTION'),\n                                            f1_score(y_Test_Set, ypred_KNN_Test, pos_label = 'PAIDOFF'),\n                                            jaccard_similarity_score(y_Test_Set, ypred_KNN_Test),\n                                                'NaN'\n                                           ]})\n"
        },
        {
            "cell_type": "code",
            "execution_count": 388,
            "metadata": {},
            "outputs": [
                {
                    "name": "stderr",
                    "output_type": "stream",
                    "text": "/opt/conda/envs/Python36/lib/python3.6/site-packages/sklearn/metrics/classification.py:1143: UndefinedMetricWarning: F-score is ill-defined and being set to 0.0 due to no predicted samples.\n  'precision', 'predicted', average, warn_for)\n"
                }
            ],
            "source": "ypred_Tree_Test = DecisionTree.predict(X_Test_Set)\nResultAccuracyTree_Test_Set = pd.DataFrame({'Metrics' : ['Test set Accuracy','F1 Score Collection','F1 Score Paidoff','Jaccard Index'],\n                                  'Value_Tree': [metrics.accuracy_score(y_Test_Set, ypred_Tree_Test),\n                                            f1_score(y_Test_Set, ypred_Tree_Test, pos_label = 'COLLECTION'),\n                                            f1_score(y_Test_Set, ypred_Tree_Test, pos_label = 'PAIDOFF'),\n                                            jaccard_similarity_score(y_Test_Set, ypred_Tree_Test)\n                                           ]})\n"
        },
        {
            "cell_type": "code",
            "execution_count": 389,
            "metadata": {},
            "outputs": [],
            "source": "ypred_LR_Test = LR.predict(X_Test_Set)\nResultAccuracyLR_Test_Set = pd.DataFrame({'Metrics' : ['Test set Accuracy','F1 Score Collection','F1 Score Paidoff','Jaccard Index'],\n                                  'Value_LR': [metrics.accuracy_score(y_Test_Set_int, ypred_LR_Test),\n                                            f1_score(y_Test_Set_int, ypred_LR_Test, pos_label = 0),\n                                            f1_score(y_Test_Set_int, ypred_LR_Test, pos_label = 1),\n                                            jaccard_similarity_score(y_Test_Set_int, ypred_LR_Test)\n                                           ]})\n"
        },
        {
            "cell_type": "code",
            "execution_count": 390,
            "metadata": {},
            "outputs": [
                {
                    "data": {
                        "text/html": "<div>\n<style scoped>\n    .dataframe tbody tr th:only-of-type {\n        vertical-align: middle;\n    }\n\n    .dataframe tbody tr th {\n        vertical-align: top;\n    }\n\n    .dataframe thead th {\n        text-align: right;\n    }\n</style>\n<table border=\"1\" class=\"dataframe\">\n  <thead>\n    <tr style=\"text-align: right;\">\n      <th></th>\n      <th>Metrics</th>\n      <th>Value_SVM</th>\n    </tr>\n  </thead>\n  <tbody>\n    <tr>\n      <th>0</th>\n      <td>Test set Accuracy</td>\n      <td>0.703704</td>\n    </tr>\n    <tr>\n      <th>1</th>\n      <td>F1 Score Collection</td>\n      <td>0.000000</td>\n    </tr>\n    <tr>\n      <th>2</th>\n      <td>F1 Score Paidoff</td>\n      <td>0.826087</td>\n    </tr>\n    <tr>\n      <th>3</th>\n      <td>Jaccard Index</td>\n      <td>0.703704</td>\n    </tr>\n    <tr>\n      <th>4</th>\n      <td>LogLoss</td>\n      <td>10.233919</td>\n    </tr>\n  </tbody>\n</table>\n</div>",
                        "text/plain": "               Metrics  Value_SVM\n0    Test set Accuracy   0.703704\n1  F1 Score Collection   0.000000\n2     F1 Score Paidoff   0.826087\n3        Jaccard Index   0.703704\n4              LogLoss  10.233919"
                    },
                    "execution_count": 390,
                    "metadata": {},
                    "output_type": "execute_result"
                }
            ],
            "source": "ypredSVM_Test = clf.predict(X_Test_Set)\nResultAccuracySVM_Test_Set = pd.DataFrame({'Metrics' : [ 'Test set Accuracy','F1 Score Collection','F1 Score Paidoff','Jaccard Index','LogLoss'],\n                                  'Value_SVM': [metrics.accuracy_score(y_Test_Set_int, ypredSVM_Test),\n                                            f1_score(y_Test_Set_int, ypredSVM_Test, pos_label = 0),\n                                            f1_score(y_Test_Set_int, ypredSVM_Test, pos_label = 1),\n                                            jaccard_similarity_score(y_Test_Set_int, ypredSVM_Test),\n                                            log_loss(y_Test_Set_int, ypredSVM_Test)\n                                           ]})\nResultAccuracySVM_Test_Set"
        },
        {
            "cell_type": "code",
            "execution_count": 391,
            "metadata": {},
            "outputs": [
                {
                    "data": {
                        "text/html": "<div>\n<style scoped>\n    .dataframe tbody tr th:only-of-type {\n        vertical-align: middle;\n    }\n\n    .dataframe tbody tr th {\n        vertical-align: top;\n    }\n\n    .dataframe thead th {\n        text-align: right;\n    }\n</style>\n<table border=\"1\" class=\"dataframe\">\n  <thead>\n    <tr style=\"text-align: right;\">\n      <th></th>\n      <th>Metrics</th>\n      <th>Value_KNN</th>\n      <th>Value_Tree</th>\n      <th>Value_LR</th>\n      <th>Value_SVM</th>\n    </tr>\n  </thead>\n  <tbody>\n    <tr>\n      <th>0</th>\n      <td>Test Set Accuracy</td>\n      <td>0.648148</td>\n      <td>0.740741</td>\n      <td>0.759259</td>\n      <td>0.703704</td>\n    </tr>\n    <tr>\n      <th>1</th>\n      <td>F1 Score Collection</td>\n      <td>0.296296</td>\n      <td>0.000000</td>\n      <td>0.133333</td>\n      <td>0.000000</td>\n    </tr>\n    <tr>\n      <th>2</th>\n      <td>F1 Score Paidoff</td>\n      <td>0.765432</td>\n      <td>0.851064</td>\n      <td>0.860215</td>\n      <td>0.826087</td>\n    </tr>\n    <tr>\n      <th>3</th>\n      <td>Jaccard Index</td>\n      <td>0.648148</td>\n      <td>0.740741</td>\n      <td>0.759259</td>\n      <td>0.703704</td>\n    </tr>\n    <tr>\n      <th>4</th>\n      <td>Logloss</td>\n      <td>NaN</td>\n      <td>NaN</td>\n      <td>NaN</td>\n      <td>10.233919</td>\n    </tr>\n  </tbody>\n</table>\n</div>",
                        "text/plain": "               Metrics Value_KNN  Value_Tree  Value_LR  Value_SVM\n0    Test Set Accuracy  0.648148    0.740741  0.759259   0.703704\n1  F1 Score Collection  0.296296    0.000000  0.133333   0.000000\n2     F1 Score Paidoff  0.765432    0.851064  0.860215   0.826087\n3        Jaccard Index  0.648148    0.740741  0.759259   0.703704\n4              Logloss       NaN         NaN       NaN  10.233919"
                    },
                    "execution_count": 391,
                    "metadata": {},
                    "output_type": "execute_result"
                }
            ],
            "source": "Confusion_Matrix_Comparison_Test = pd.concat([ResultAccuracyKNN_Test_Set,ResultAccuracyTree_Test_Set['Value_Tree'],ResultAccuracyLR_Test_Set['Value_LR'],ResultAccuracySVM_Test_Set['Value_SVM']], axis=1)\n\nConfusion_Matrix_Comparison_Test\n#Confusion_Matrix_Comparison_Test.style.apply(lambda x: ['background: lightblue'] if x.name == 'Value_SVM' else '' for i in x)"
        },
        {
            "cell_type": "code",
            "execution_count": 392,
            "metadata": {},
            "outputs": [
                {
                    "data": {
                        "image/png": "[encoded data removed]",
                        "text/plain": "<Figure size 432x288 with 2 Axes>"
                    },
                    "metadata": {
                        "needs_background": "light"
                    },
                    "output_type": "display_data"
                },
                {
                    "data": {
                        "image/png": "[encoded data removed]",
                        "text/plain": "<Figure size 432x288 with 2 Axes>"
                    },
                    "metadata": {
                        "needs_background": "light"
                    },
                    "output_type": "display_data"
                },
                {
                    "data": {
                        "image/png": "[encoded data removed]",
                        "text/plain": "<Figure size 432x288 with 2 Axes>"
                    },
                    "metadata": {
                        "needs_background": "light"
                    },
                    "output_type": "display_data"
                },
                {
                    "data": {
                        "image/png": "[encoded data removed]",
                        "text/plain": "<Figure size 432x288 with 2 Axes>"
                    },
                    "metadata": {
                        "needs_background": "light"
                    },
                    "output_type": "display_data"
                }
            ],
            "source": "# Compute confusion matrix KNN\ncnf_matrix_KNN_Test = confusion_matrix(y_Test_Set, ypred_KNN_Test, labels=['PAIDOFF','COLLECTION'])\nnp.set_printoptions(precision=2)\n\n\n# Plot non-normalized confusion matrix \nplt.figure()\nplot_confusion_matrix(cnf_matrix_KNN_Test, classes=['churn=PAIDOFF','churn=COLLECTION'],normalize= False,  title='Confusion matrix KNN')\n\n# Compute confusion matrix Tree\ncnf_matrix_Tree_Test = confusion_matrix(y_Test_Set, ypred_Tree_Test, labels=['PAIDOFF','COLLECTION'])\nnp.set_printoptions(precision=2)\n\n\n# Plot non-normalized confusion matrix \nplt.figure()\nplot_confusion_matrix(cnf_matrix_Tree_Test, classes=['churn=PAIDOFF','churn=COLLECTION'],normalize= False,  title='Confusion matrix Tree')\n\n# Compute confusion matrix LR\ncnf_matrix_LR_Test = confusion_matrix(y_Test_Set_int, ypred_LR_Test, labels=[1,0])\nnp.set_printoptions(precision=2)\n\n\n# Plot non-normalized confusion matrix\nplt.figure()\nplot_confusion_matrix(cnf_matrix_LR_Test, classes=['churn=PAIDOFF','churn=COLLECTION'],normalize= False,  title='Confusion matrix LR')\n\n\n# Compute confusion matrix SVM\ncnf_matrix_SVM_Test = confusion_matrix(y_Test_Set_int, ypredSVM_Test, labels=[1,0])\nnp.set_printoptions(precision=2)\n\n\n# Plot non-normalized confusion matrix\nplt.figure()\nplot_confusion_matrix(cnf_matrix_SVM_Test, classes=['churn=PAIDOFF','churn=COLLECTION'],normalize= False,  title='Confusion matrix SVM')"
        },
        {
            "cell_type": "markdown",
            "metadata": {},
            "source": "# Report\nYou should be able to report the accuracy of the built model using different evaluation metrics:"
        },
        {
            "cell_type": "code",
            "execution_count": 284,
            "metadata": {},
            "outputs": [
                {
                    "data": {
                        "text/html": "<style  type=\"text/css\" >\n    #T_bca825a4_0701_11ea_a239_4fc92e9ebff1row0_col3 {\n            background-color:  yellow;\n        }    #T_bca825a4_0701_11ea_a239_4fc92e9ebff1row1_col3 {\n            background-color:  yellow;\n        }    #T_bca825a4_0701_11ea_a239_4fc92e9ebff1row2_col3 {\n            background-color:  yellow;\n        }    #T_bca825a4_0701_11ea_a239_4fc92e9ebff1row3_col3 {\n            background-color:  yellow;\n        }    #T_bca825a4_0701_11ea_a239_4fc92e9ebff1row4_col3 {\n            background-color:  yellow;\n        }</style><table id=\"T_bca825a4_0701_11ea_a239_4fc92e9ebff1\" ><thead>    <tr>        <th class=\"blank level0\" ></th>        <th class=\"col_heading level0 col0\" >Metrics</th>        <th class=\"col_heading level0 col1\" >Value_KNN</th>        <th class=\"col_heading level0 col2\" >Value_Tree</th>        <th class=\"col_heading level0 col3\" >Value_LR</th>        <th class=\"col_heading level0 col4\" >Value_SVM</th>    </tr></thead><tbody>\n                <tr>\n                        <th id=\"T_bca825a4_0701_11ea_a239_4fc92e9ebff1level0_row0\" class=\"row_heading level0 row0\" >0</th>\n                        <td id=\"T_bca825a4_0701_11ea_a239_4fc92e9ebff1row0_col0\" class=\"data row0 col0\" >Test Set Accuracy</td>\n                        <td id=\"T_bca825a4_0701_11ea_a239_4fc92e9ebff1row0_col1\" class=\"data row0 col1\" >0.648148</td>\n                        <td id=\"T_bca825a4_0701_11ea_a239_4fc92e9ebff1row0_col2\" class=\"data row0 col2\" >0.740741</td>\n                        <td id=\"T_bca825a4_0701_11ea_a239_4fc92e9ebff1row0_col3\" class=\"data row0 col3\" >0.759259</td>\n                        <td id=\"T_bca825a4_0701_11ea_a239_4fc92e9ebff1row0_col4\" class=\"data row0 col4\" >0.703704</td>\n            </tr>\n            <tr>\n                        <th id=\"T_bca825a4_0701_11ea_a239_4fc92e9ebff1level0_row1\" class=\"row_heading level0 row1\" >1</th>\n                        <td id=\"T_bca825a4_0701_11ea_a239_4fc92e9ebff1row1_col0\" class=\"data row1 col0\" >F1 Score Collection</td>\n                        <td id=\"T_bca825a4_0701_11ea_a239_4fc92e9ebff1row1_col1\" class=\"data row1 col1\" >0.296296</td>\n                        <td id=\"T_bca825a4_0701_11ea_a239_4fc92e9ebff1row1_col2\" class=\"data row1 col2\" >0</td>\n                        <td id=\"T_bca825a4_0701_11ea_a239_4fc92e9ebff1row1_col3\" class=\"data row1 col3\" >0.133333</td>\n                        <td id=\"T_bca825a4_0701_11ea_a239_4fc92e9ebff1row1_col4\" class=\"data row1 col4\" >0</td>\n            </tr>\n            <tr>\n                        <th id=\"T_bca825a4_0701_11ea_a239_4fc92e9ebff1level0_row2\" class=\"row_heading level0 row2\" >2</th>\n                        <td id=\"T_bca825a4_0701_11ea_a239_4fc92e9ebff1row2_col0\" class=\"data row2 col0\" >F1 Score Paidoff</td>\n                        <td id=\"T_bca825a4_0701_11ea_a239_4fc92e9ebff1row2_col1\" class=\"data row2 col1\" >0.765432</td>\n                        <td id=\"T_bca825a4_0701_11ea_a239_4fc92e9ebff1row2_col2\" class=\"data row2 col2\" >0.851064</td>\n                        <td id=\"T_bca825a4_0701_11ea_a239_4fc92e9ebff1row2_col3\" class=\"data row2 col3\" >0.860215</td>\n                        <td id=\"T_bca825a4_0701_11ea_a239_4fc92e9ebff1row2_col4\" class=\"data row2 col4\" >0.826087</td>\n            </tr>\n            <tr>\n                        <th id=\"T_bca825a4_0701_11ea_a239_4fc92e9ebff1level0_row3\" class=\"row_heading level0 row3\" >3</th>\n                        <td id=\"T_bca825a4_0701_11ea_a239_4fc92e9ebff1row3_col0\" class=\"data row3 col0\" >Jaccard Index</td>\n                        <td id=\"T_bca825a4_0701_11ea_a239_4fc92e9ebff1row3_col1\" class=\"data row3 col1\" >0.648148</td>\n                        <td id=\"T_bca825a4_0701_11ea_a239_4fc92e9ebff1row3_col2\" class=\"data row3 col2\" >0.740741</td>\n                        <td id=\"T_bca825a4_0701_11ea_a239_4fc92e9ebff1row3_col3\" class=\"data row3 col3\" >0.759259</td>\n                        <td id=\"T_bca825a4_0701_11ea_a239_4fc92e9ebff1row3_col4\" class=\"data row3 col4\" >0.703704</td>\n            </tr>\n            <tr>\n                        <th id=\"T_bca825a4_0701_11ea_a239_4fc92e9ebff1level0_row4\" class=\"row_heading level0 row4\" >4</th>\n                        <td id=\"T_bca825a4_0701_11ea_a239_4fc92e9ebff1row4_col0\" class=\"data row4 col0\" >Logloss</td>\n                        <td id=\"T_bca825a4_0701_11ea_a239_4fc92e9ebff1row4_col1\" class=\"data row4 col1\" >NaN</td>\n                        <td id=\"T_bca825a4_0701_11ea_a239_4fc92e9ebff1row4_col2\" class=\"data row4 col2\" >nan</td>\n                        <td id=\"T_bca825a4_0701_11ea_a239_4fc92e9ebff1row4_col3\" class=\"data row4 col3\" >nan</td>\n                        <td id=\"T_bca825a4_0701_11ea_a239_4fc92e9ebff1row4_col4\" class=\"data row4 col4\" >10.2339</td>\n            </tr>\n    </tbody></table>",
                        "text/plain": "<pandas.io.formats.style.Styler at 0x7f9913d603c8>"
                    },
                    "execution_count": 284,
                    "metadata": {},
                    "output_type": "execute_result"
                }
            ],
            "source": "Confusion_Matrix_Comparison_Test\ndef highlight_col(x):\n    r = 'background-color: yellow'\n    df1 = pd.DataFrame('', index=x.index, columns=x.columns)\n    df1.iloc[:, 3] = r\n    return df1    \nConfusion_Matrix_Comparison_Test.style.apply(highlight_col, axis=None)\n"
        },
        {
            "cell_type": "markdown",
            "metadata": {},
            "source": "The logistic regression corretly predicted 41 values out of 54 with an accuray of 76% "
        },
        {
            "cell_type": "markdown",
            "metadata": {
                "button": false,
                "new_sheet": false,
                "run_control": {
                    "read_only": false
                }
            },
            "source": "<h2>Want to learn more?</h2>\n\nIBM SPSS Modeler is a comprehensive analytics platform that has many machine learning algorithms. It has been designed to bring predictive intelligence to decisions made by individuals, by groups, by systems \u2013 by your enterprise as a whole. A free trial is available through this course, available here: <a href=\"http://cocl.us/ML0101EN-SPSSModeler\">SPSS Modeler</a>\n\nAlso, you can use Watson Studio to run these notebooks faster with bigger datasets. Watson Studio is IBM's leading cloud solution for data scientists, built by data scientists. With Jupyter notebooks, RStudio, Apache Spark and popular libraries pre-packaged in the cloud, Watson Studio enables data scientists to collaborate on their projects without having to install anything. Join the fast-growing community of Watson Studio users today with a free account at <a href=\"https://cocl.us/ML0101EN_DSX\">Watson Studio</a>\n\n<h3>Thanks for completing this lesson!</h3>\n\n<h4>Author:  <a href=\"https://ca.linkedin.com/in/saeedaghabozorgi\">Saeed Aghabozorgi</a></h4>\n<p><a href=\"https://ca.linkedin.com/in/saeedaghabozorgi\">Saeed Aghabozorgi</a>, PhD is a Data Scientist in IBM with a track record of developing enterprise level applications that substantially increases clients\u2019 ability to turn data into actionable knowledge. He is a researcher in data mining field and expert in developing advanced analytic methods like machine learning and statistical modelling on large datasets.</p>\n\n<hr>\n\n<p>Copyright &copy; 2018 <a href=\"https://cocl.us/DX0108EN_CC\">Cognitive Class</a>. This notebook and its source code are released under the terms of the <a href=\"https://bigdatauniversity.com/mit-license/\">MIT License</a>.</p>"
        }
    ],
    "metadata": {
        "kernelspec": {
            "display_name": "Python 3.6",
            "language": "python",
            "name": "python3"
        },
        "language_info": {
            "codemirror_mode": {
                "name": "ipython",
                "version": 3
            },
            "file_extension": ".py",
            "mimetype": "text/x-python",
            "name": "python",
            "nbconvert_exporter": "python",
            "pygments_lexer": "ipython3",
            "version": "3.6.8"
        }
    },
    "nbformat": 4,
    "nbformat_minor": 2
}